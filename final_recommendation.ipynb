{
 "cells": [
  {
   "cell_type": "markdown",
   "metadata": {},
   "source": [
    "# Collaborative filtering"
   ]
  },
  {
   "cell_type": "markdown",
   "metadata": {
    "id": "HzIDnDd4lyZ6"
   },
   "source": [
    "# 데이터 읽어오기"
   ]
  },
  {
   "cell_type": "code",
   "execution_count": 1,
   "metadata": {
    "colab": {
     "base_uri": "https://localhost:8080/",
     "height": 214
    },
    "id": "G_TQCywHo3xX",
    "outputId": "d36b9acc-4286-4d06-dbf5-e1ba60bb82ee"
   },
   "outputs": [
    {
     "name": "stdout",
     "output_type": "stream",
     "text": [
      "(4803, 2)\n"
     ]
    },
    {
     "data": {
      "text/html": [
       "<div>\n",
       "<style scoped>\n",
       "    .dataframe tbody tr th:only-of-type {\n",
       "        vertical-align: middle;\n",
       "    }\n",
       "\n",
       "    .dataframe tbody tr th {\n",
       "        vertical-align: top;\n",
       "    }\n",
       "\n",
       "    .dataframe thead th {\n",
       "        text-align: right;\n",
       "    }\n",
       "</style>\n",
       "<table border=\"1\" class=\"dataframe\">\n",
       "  <thead>\n",
       "    <tr style=\"text-align: right;\">\n",
       "      <th></th>\n",
       "      <th>id</th>\n",
       "      <th>original_title</th>\n",
       "    </tr>\n",
       "  </thead>\n",
       "  <tbody>\n",
       "    <tr>\n",
       "      <th>0</th>\n",
       "      <td>19995</td>\n",
       "      <td>Avatar</td>\n",
       "    </tr>\n",
       "    <tr>\n",
       "      <th>1</th>\n",
       "      <td>285</td>\n",
       "      <td>Pirates of the Caribbean: At World's End</td>\n",
       "    </tr>\n",
       "    <tr>\n",
       "      <th>2</th>\n",
       "      <td>206647</td>\n",
       "      <td>Spectre</td>\n",
       "    </tr>\n",
       "    <tr>\n",
       "      <th>3</th>\n",
       "      <td>49026</td>\n",
       "      <td>The Dark Knight Rises</td>\n",
       "    </tr>\n",
       "    <tr>\n",
       "      <th>4</th>\n",
       "      <td>49529</td>\n",
       "      <td>John Carter</td>\n",
       "    </tr>\n",
       "  </tbody>\n",
       "</table>\n",
       "</div>"
      ],
      "text/plain": [
       "       id                            original_title\n",
       "0   19995                                    Avatar\n",
       "1     285  Pirates of the Caribbean: At World's End\n",
       "2  206647                                   Spectre\n",
       "3   49026                     The Dark Knight Rises\n",
       "4   49529                               John Carter"
      ]
     },
     "execution_count": 1,
     "metadata": {},
     "output_type": "execute_result"
    }
   ],
   "source": [
    "import pandas as pd\n",
    "import numpy as np\n",
    "movies = pd.read_csv(\"./dataset/tmdb_5000_movies.csv\")         # tmdb_5000_movies.csv dataframe으로 읽어오기\n",
    "movies = movies[[\"id\",\"genres\",\"vote_average\",\"vote_count\",\"popularity\",\"original_title\", \"keywords\",\"overview\"]]\n",
    "movies.drop([\"genres\",\"vote_average\",\"vote_count\",\"popularity\", \"keywords\",\"overview\"],axis=1,inplace=True)\n",
    "\n",
    "print(movies.shape)\n",
    "movies.head()"
   ]
  },
  {
   "cell_type": "code",
   "execution_count": 2,
   "metadata": {
    "colab": {
     "base_uri": "https://localhost:8080/",
     "height": 196
    },
    "id": "C8VbIrq0sGXU",
    "outputId": "29ece0c5-3476-4fee-debf-a69bc16be765"
   },
   "outputs": [
    {
     "data": {
      "text/html": [
       "<div>\n",
       "<style scoped>\n",
       "    .dataframe tbody tr th:only-of-type {\n",
       "        vertical-align: middle;\n",
       "    }\n",
       "\n",
       "    .dataframe tbody tr th {\n",
       "        vertical-align: top;\n",
       "    }\n",
       "\n",
       "    .dataframe thead th {\n",
       "        text-align: right;\n",
       "    }\n",
       "</style>\n",
       "<table border=\"1\" class=\"dataframe\">\n",
       "  <thead>\n",
       "    <tr style=\"text-align: right;\">\n",
       "      <th></th>\n",
       "      <th>tmdbId</th>\n",
       "      <th>original_title</th>\n",
       "    </tr>\n",
       "  </thead>\n",
       "  <tbody>\n",
       "    <tr>\n",
       "      <th>0</th>\n",
       "      <td>19995</td>\n",
       "      <td>Avatar</td>\n",
       "    </tr>\n",
       "    <tr>\n",
       "      <th>1</th>\n",
       "      <td>285</td>\n",
       "      <td>Pirates of the Caribbean: At World's End</td>\n",
       "    </tr>\n",
       "    <tr>\n",
       "      <th>2</th>\n",
       "      <td>206647</td>\n",
       "      <td>Spectre</td>\n",
       "    </tr>\n",
       "    <tr>\n",
       "      <th>3</th>\n",
       "      <td>49026</td>\n",
       "      <td>The Dark Knight Rises</td>\n",
       "    </tr>\n",
       "    <tr>\n",
       "      <th>4</th>\n",
       "      <td>49529</td>\n",
       "      <td>John Carter</td>\n",
       "    </tr>\n",
       "  </tbody>\n",
       "</table>\n",
       "</div>"
      ],
      "text/plain": [
       "   tmdbId                            original_title\n",
       "0   19995                                    Avatar\n",
       "1     285  Pirates of the Caribbean: At World's End\n",
       "2  206647                                   Spectre\n",
       "3   49026                     The Dark Knight Rises\n",
       "4   49529                               John Carter"
      ]
     },
     "execution_count": 2,
     "metadata": {},
     "output_type": "execute_result"
    }
   ],
   "source": [
    "# 컬럼명 변경\n",
    "movies.columns = ['tmdbId', 'original_title']\n",
    "movies.head()"
   ]
  },
  {
   "cell_type": "code",
   "execution_count": 3,
   "metadata": {
    "colab": {
     "base_uri": "https://localhost:8080/",
     "height": 214
    },
    "id": "aj53gNpKlwO4",
    "outputId": "873dc121-ec47-47f6-c029-8b2ae129cbb7"
   },
   "outputs": [
    {
     "name": "stdout",
     "output_type": "stream",
     "text": [
      "(9125, 2)\n"
     ]
    },
    {
     "data": {
      "text/html": [
       "<div>\n",
       "<style scoped>\n",
       "    .dataframe tbody tr th:only-of-type {\n",
       "        vertical-align: middle;\n",
       "    }\n",
       "\n",
       "    .dataframe tbody tr th {\n",
       "        vertical-align: top;\n",
       "    }\n",
       "\n",
       "    .dataframe thead th {\n",
       "        text-align: right;\n",
       "    }\n",
       "</style>\n",
       "<table border=\"1\" class=\"dataframe\">\n",
       "  <thead>\n",
       "    <tr style=\"text-align: right;\">\n",
       "      <th></th>\n",
       "      <th>movieId</th>\n",
       "      <th>tmdbId</th>\n",
       "    </tr>\n",
       "  </thead>\n",
       "  <tbody>\n",
       "    <tr>\n",
       "      <th>0</th>\n",
       "      <td>1</td>\n",
       "      <td>862.0</td>\n",
       "    </tr>\n",
       "    <tr>\n",
       "      <th>1</th>\n",
       "      <td>2</td>\n",
       "      <td>8844.0</td>\n",
       "    </tr>\n",
       "    <tr>\n",
       "      <th>2</th>\n",
       "      <td>3</td>\n",
       "      <td>15602.0</td>\n",
       "    </tr>\n",
       "    <tr>\n",
       "      <th>3</th>\n",
       "      <td>4</td>\n",
       "      <td>31357.0</td>\n",
       "    </tr>\n",
       "    <tr>\n",
       "      <th>4</th>\n",
       "      <td>5</td>\n",
       "      <td>11862.0</td>\n",
       "    </tr>\n",
       "  </tbody>\n",
       "</table>\n",
       "</div>"
      ],
      "text/plain": [
       "   movieId   tmdbId\n",
       "0        1    862.0\n",
       "1        2   8844.0\n",
       "2        3  15602.0\n",
       "3        4  31357.0\n",
       "4        5  11862.0"
      ]
     },
     "execution_count": 3,
     "metadata": {},
     "output_type": "execute_result"
    }
   ],
   "source": [
    "# links.csv dataframe으로 읽어오기\n",
    "links = pd.read_csv(\"./dataset/links_small.csv\")\n",
    "links = links[[\"movieId\",\"imdbId\",\"tmdbId\"]]\n",
    "links.drop(['imdbId'],axis=1,inplace=True)\n",
    "\n",
    "print(links.shape)\n",
    "links.head()"
   ]
  },
  {
   "cell_type": "code",
   "execution_count": 4,
   "metadata": {
    "colab": {
     "base_uri": "https://localhost:8080/",
     "height": 214
    },
    "id": "bZKxXlNeo12E",
    "outputId": "0451ff16-a848-45f1-9fba-0ba9e9893373"
   },
   "outputs": [
    {
     "name": "stdout",
     "output_type": "stream",
     "text": [
      "(100004, 3)\n"
     ]
    },
    {
     "data": {
      "text/html": [
       "<div>\n",
       "<style scoped>\n",
       "    .dataframe tbody tr th:only-of-type {\n",
       "        vertical-align: middle;\n",
       "    }\n",
       "\n",
       "    .dataframe tbody tr th {\n",
       "        vertical-align: top;\n",
       "    }\n",
       "\n",
       "    .dataframe thead th {\n",
       "        text-align: right;\n",
       "    }\n",
       "</style>\n",
       "<table border=\"1\" class=\"dataframe\">\n",
       "  <thead>\n",
       "    <tr style=\"text-align: right;\">\n",
       "      <th></th>\n",
       "      <th>userId</th>\n",
       "      <th>movieId</th>\n",
       "      <th>rating</th>\n",
       "    </tr>\n",
       "  </thead>\n",
       "  <tbody>\n",
       "    <tr>\n",
       "      <th>0</th>\n",
       "      <td>1</td>\n",
       "      <td>31</td>\n",
       "      <td>2.5</td>\n",
       "    </tr>\n",
       "    <tr>\n",
       "      <th>1</th>\n",
       "      <td>1</td>\n",
       "      <td>1029</td>\n",
       "      <td>3.0</td>\n",
       "    </tr>\n",
       "    <tr>\n",
       "      <th>2</th>\n",
       "      <td>1</td>\n",
       "      <td>1061</td>\n",
       "      <td>3.0</td>\n",
       "    </tr>\n",
       "    <tr>\n",
       "      <th>3</th>\n",
       "      <td>1</td>\n",
       "      <td>1129</td>\n",
       "      <td>2.0</td>\n",
       "    </tr>\n",
       "    <tr>\n",
       "      <th>4</th>\n",
       "      <td>1</td>\n",
       "      <td>1172</td>\n",
       "      <td>4.0</td>\n",
       "    </tr>\n",
       "  </tbody>\n",
       "</table>\n",
       "</div>"
      ],
      "text/plain": [
       "   userId  movieId  rating\n",
       "0       1       31     2.5\n",
       "1       1     1029     3.0\n",
       "2       1     1061     3.0\n",
       "3       1     1129     2.0\n",
       "4       1     1172     4.0"
      ]
     },
     "execution_count": 4,
     "metadata": {},
     "output_type": "execute_result"
    }
   ],
   "source": [
    "# ratings.csv dataframe으로 읽어오기\n",
    "ratings = pd.read_csv(\"./dataset/ratings_small.csv\")   \n",
    "ratings = ratings[[\"userId\",\"movieId\",\"rating\",\"timestamp\"]]\n",
    "ratings.drop([\"timestamp\"],axis=1,inplace=True)\n",
    "\n",
    "print(ratings.shape)\n",
    "ratings.head()"
   ]
  },
  {
   "cell_type": "markdown",
   "metadata": {
    "id": "BI2-7dmKpvxt"
   },
   "source": [
    "## 결측값 확인\n"
   ]
  },
  {
   "cell_type": "code",
   "execution_count": 5,
   "metadata": {
    "colab": {
     "base_uri": "https://localhost:8080/"
    },
    "id": "bpbICnltpvhp",
    "outputId": "f5909493-a752-4c00-a344-823fd2ebda4e"
   },
   "outputs": [
    {
     "data": {
      "text/plain": [
       "tmdbId            0\n",
       "original_title    0\n",
       "dtype: int64"
      ]
     },
     "execution_count": 5,
     "metadata": {},
     "output_type": "execute_result"
    }
   ],
   "source": [
    "# null 값 개수 확인\n",
    "movies.isnull().sum()"
   ]
  },
  {
   "cell_type": "code",
   "execution_count": 6,
   "metadata": {
    "colab": {
     "base_uri": "https://localhost:8080/"
    },
    "id": "WrJkDYrRp09F",
    "outputId": "b17139ca-5acb-4e2e-ff0e-6afe97d2ee3c"
   },
   "outputs": [
    {
     "data": {
      "text/plain": [
       "movieId     0\n",
       "tmdbId     13\n",
       "dtype: int64"
      ]
     },
     "execution_count": 6,
     "metadata": {},
     "output_type": "execute_result"
    }
   ],
   "source": [
    "# null 값 개수 확인\n",
    "links.isnull().sum()"
   ]
  },
  {
   "cell_type": "code",
   "execution_count": 7,
   "metadata": {
    "colab": {
     "base_uri": "https://localhost:8080/",
     "height": 196
    },
    "id": "qnuq4dr2p86e",
    "outputId": "b4f6be47-13a7-4a70-e80f-ea842b2a6d9a"
   },
   "outputs": [
    {
     "data": {
      "text/html": [
       "<div>\n",
       "<style scoped>\n",
       "    .dataframe tbody tr th:only-of-type {\n",
       "        vertical-align: middle;\n",
       "    }\n",
       "\n",
       "    .dataframe tbody tr th {\n",
       "        vertical-align: top;\n",
       "    }\n",
       "\n",
       "    .dataframe thead th {\n",
       "        text-align: right;\n",
       "    }\n",
       "</style>\n",
       "<table border=\"1\" class=\"dataframe\">\n",
       "  <thead>\n",
       "    <tr style=\"text-align: right;\">\n",
       "      <th></th>\n",
       "      <th>movieId</th>\n",
       "      <th>tmdbId</th>\n",
       "    </tr>\n",
       "  </thead>\n",
       "  <tbody>\n",
       "    <tr>\n",
       "      <th>0</th>\n",
       "      <td>1</td>\n",
       "      <td>862</td>\n",
       "    </tr>\n",
       "    <tr>\n",
       "      <th>1</th>\n",
       "      <td>2</td>\n",
       "      <td>8844</td>\n",
       "    </tr>\n",
       "    <tr>\n",
       "      <th>2</th>\n",
       "      <td>3</td>\n",
       "      <td>15602</td>\n",
       "    </tr>\n",
       "    <tr>\n",
       "      <th>3</th>\n",
       "      <td>4</td>\n",
       "      <td>31357</td>\n",
       "    </tr>\n",
       "    <tr>\n",
       "      <th>4</th>\n",
       "      <td>5</td>\n",
       "      <td>11862</td>\n",
       "    </tr>\n",
       "  </tbody>\n",
       "</table>\n",
       "</div>"
      ],
      "text/plain": [
       "   movieId  tmdbId\n",
       "0        1     862\n",
       "1        2    8844\n",
       "2        3   15602\n",
       "3        4   31357\n",
       "4        5   11862"
      ]
     },
     "execution_count": 7,
     "metadata": {},
     "output_type": "execute_result"
    }
   ],
   "source": [
    "# 결측값 있는 로우 제거\n",
    "links = links.dropna(axis=0)\n",
    "\n",
    "# 타입변환\n",
    "links[\"tmdbId\"] = links[\"tmdbId\"].astype(\"int\")\n",
    "\n",
    "links.head()"
   ]
  },
  {
   "cell_type": "code",
   "execution_count": 8,
   "metadata": {
    "colab": {
     "base_uri": "https://localhost:8080/"
    },
    "id": "8kf3S7uZp3iN",
    "outputId": "594c5720-310c-4c39-8cb6-4ffa223de6a6"
   },
   "outputs": [
    {
     "data": {
      "text/plain": [
       "userId     0\n",
       "movieId    0\n",
       "rating     0\n",
       "dtype: int64"
      ]
     },
     "execution_count": 8,
     "metadata": {},
     "output_type": "execute_result"
    }
   ],
   "source": [
    "# null 값 개수 확인\n",
    "ratings.isnull().sum()"
   ]
  },
  {
   "cell_type": "markdown",
   "metadata": {
    "id": "25Uy5H6lqpKV"
   },
   "source": [
    "## 데이터 프레임끼리 inner join"
   ]
  },
  {
   "cell_type": "code",
   "execution_count": 9,
   "metadata": {
    "colab": {
     "base_uri": "https://localhost:8080/"
    },
    "id": "J-f3ds_Kp6gd",
    "outputId": "0b65a9f4-c43a-4471-fdcc-bbd61aa1de79"
   },
   "outputs": [
    {
     "name": "stdout",
     "output_type": "stream",
     "text": [
      "       userId  movieId  rating  tmdbId\n",
      "0           1       31     2.5    9909\n",
      "1           7       31     3.0    9909\n",
      "2          31       31     4.0    9909\n",
      "3          32       31     4.0    9909\n",
      "4          36       31     3.0    9909\n",
      "...       ...      ...     ...     ...\n",
      "99928     664    64997     2.5   34812\n",
      "99929     664    72380     3.5   22825\n",
      "99930     665      129     3.0  110972\n",
      "99931     665     4736     1.0   26602\n",
      "99932     668     6425     1.0   36807\n",
      "\n",
      "[99933 rows x 4 columns]\n"
     ]
    }
   ],
   "source": [
    "join_movie = pd.merge(ratings, links, left_on='movieId', right_on='movieId', how='inner')\n",
    "print(join_movie)"
   ]
  },
  {
   "cell_type": "code",
   "execution_count": 10,
   "metadata": {
    "colab": {
     "base_uri": "https://localhost:8080/"
    },
    "id": "g-fxlIVNscye",
    "outputId": "2b688ecc-a633-4909-f6a7-afcfca65681d"
   },
   "outputs": [
    {
     "name": "stdout",
     "output_type": "stream",
     "text": [
      "       userId  movieId  rating  tmdbId  original_title\n",
      "0           1     1061     3.0     819        Sleepers\n",
      "1          19     1061     3.0     819        Sleepers\n",
      "2          23     1061     3.5     819        Sleepers\n",
      "3          30     1061     3.0     819        Sleepers\n",
      "4          70     1061     5.0     819        Sleepers\n",
      "...       ...      ...     ...     ...             ...\n",
      "66942     663   134528     3.5  222936           Aloha\n",
      "66943     663   137595     3.0  264999  Magic Mike XXL\n",
      "66944     664    60832     3.0   12192       Pathology\n",
      "66945     664    72380     3.5   22825         The Box\n",
      "66946     665     4736     1.0   26602    Summer Catch\n",
      "\n",
      "[66947 rows x 5 columns]\n"
     ]
    }
   ],
   "source": [
    "join_movie = pd.merge(join_movie, movies, left_on='tmdbId', right_on='tmdbId', how='inner')\n",
    "print(join_movie)"
   ]
  },
  {
   "cell_type": "code",
   "execution_count": 11,
   "metadata": {
    "colab": {
     "base_uri": "https://localhost:8080/"
    },
    "id": "t88i2abItfD9",
    "outputId": "c6ad2083-c8e8-4f6f-a17e-29dc6e7f47f4"
   },
   "outputs": [
    {
     "data": {
      "text/plain": [
       "Forrest Gump                 341\n",
       "Pulp Fiction                 324\n",
       "The Shawshank Redemption     311\n",
       "The Silence of the Lambs     304\n",
       "Star Wars                    291\n",
       "                            ... \n",
       "The Boy                        1\n",
       "디워                             1\n",
       "The Alamo                      1\n",
       "A Thousand Words               1\n",
       "Life or Something Like It      1\n",
       "Name: original_title, Length: 3393, dtype: int64"
      ]
     },
     "execution_count": 11,
     "metadata": {},
     "output_type": "execute_result"
    }
   ],
   "source": [
    "join_movie[\"original_title\"].value_counts()"
   ]
  },
  {
   "cell_type": "code",
   "execution_count": 12,
   "metadata": {
    "id": "eCqAJDjKthGI"
   },
   "outputs": [],
   "source": [
    "# # movies에 있던 모든 영화가 join이 잘 됐는지 확인 -> 여긴 발표할 때는 빼도 될 듯..\n",
    "# after = join_movie[\"tmdbId\"].unique()\n",
    "# print(len(after))\n",
    "# print(movies.shape)"
   ]
  },
  {
   "cell_type": "markdown",
   "metadata": {
    "id": "zsEfkg-V9A1P"
   },
   "source": [
    "# latent factor 알고리즘"
   ]
  },
  {
   "cell_type": "markdown",
   "metadata": {
    "id": "PYlnKp6d9rU2"
   },
   "source": [
    "### 피벗테이블 생성"
   ]
  },
  {
   "cell_type": "code",
   "execution_count": 13,
   "metadata": {
    "colab": {
     "base_uri": "https://localhost:8080/",
     "height": 293
    },
    "id": "0r8nl_zPuZJO",
    "outputId": "87fc7bad-6a3b-4fa6-f96b-241e4f56c559"
   },
   "outputs": [
    {
     "name": "stdout",
     "output_type": "stream",
     "text": [
      "(671, 3394)\n"
     ]
    },
    {
     "data": {
      "text/html": [
       "<div>\n",
       "<style scoped>\n",
       "    .dataframe tbody tr th:only-of-type {\n",
       "        vertical-align: middle;\n",
       "    }\n",
       "\n",
       "    .dataframe tbody tr th {\n",
       "        vertical-align: top;\n",
       "    }\n",
       "\n",
       "    .dataframe thead th {\n",
       "        text-align: right;\n",
       "    }\n",
       "</style>\n",
       "<table border=\"1\" class=\"dataframe\">\n",
       "  <thead>\n",
       "    <tr style=\"text-align: right;\">\n",
       "      <th>tmdbId</th>\n",
       "      <th>5</th>\n",
       "      <th>11</th>\n",
       "      <th>12</th>\n",
       "      <th>13</th>\n",
       "      <th>14</th>\n",
       "      <th>16</th>\n",
       "      <th>18</th>\n",
       "      <th>19</th>\n",
       "      <th>20</th>\n",
       "      <th>22</th>\n",
       "      <th>...</th>\n",
       "      <th>325173</th>\n",
       "      <th>328111</th>\n",
       "      <th>328425</th>\n",
       "      <th>329833</th>\n",
       "      <th>332411</th>\n",
       "      <th>332567</th>\n",
       "      <th>333371</th>\n",
       "      <th>334074</th>\n",
       "      <th>342521</th>\n",
       "      <th>347969</th>\n",
       "    </tr>\n",
       "    <tr>\n",
       "      <th>userId</th>\n",
       "      <th></th>\n",
       "      <th></th>\n",
       "      <th></th>\n",
       "      <th></th>\n",
       "      <th></th>\n",
       "      <th></th>\n",
       "      <th></th>\n",
       "      <th></th>\n",
       "      <th></th>\n",
       "      <th></th>\n",
       "      <th></th>\n",
       "      <th></th>\n",
       "      <th></th>\n",
       "      <th></th>\n",
       "      <th></th>\n",
       "      <th></th>\n",
       "      <th></th>\n",
       "      <th></th>\n",
       "      <th></th>\n",
       "      <th></th>\n",
       "      <th></th>\n",
       "    </tr>\n",
       "  </thead>\n",
       "  <tbody>\n",
       "    <tr>\n",
       "      <th>1</th>\n",
       "      <td>0.0</td>\n",
       "      <td>0.0</td>\n",
       "      <td>0.0</td>\n",
       "      <td>0.0</td>\n",
       "      <td>0.0</td>\n",
       "      <td>0.0</td>\n",
       "      <td>0.0</td>\n",
       "      <td>0.0</td>\n",
       "      <td>0.0</td>\n",
       "      <td>0.0</td>\n",
       "      <td>...</td>\n",
       "      <td>0.0</td>\n",
       "      <td>0.0</td>\n",
       "      <td>0.0</td>\n",
       "      <td>0.0</td>\n",
       "      <td>0.0</td>\n",
       "      <td>0.0</td>\n",
       "      <td>0.0</td>\n",
       "      <td>0.0</td>\n",
       "      <td>0.0</td>\n",
       "      <td>0.0</td>\n",
       "    </tr>\n",
       "    <tr>\n",
       "      <th>2</th>\n",
       "      <td>0.0</td>\n",
       "      <td>0.0</td>\n",
       "      <td>0.0</td>\n",
       "      <td>3.0</td>\n",
       "      <td>0.0</td>\n",
       "      <td>0.0</td>\n",
       "      <td>0.0</td>\n",
       "      <td>0.0</td>\n",
       "      <td>0.0</td>\n",
       "      <td>0.0</td>\n",
       "      <td>...</td>\n",
       "      <td>0.0</td>\n",
       "      <td>0.0</td>\n",
       "      <td>0.0</td>\n",
       "      <td>0.0</td>\n",
       "      <td>0.0</td>\n",
       "      <td>0.0</td>\n",
       "      <td>0.0</td>\n",
       "      <td>0.0</td>\n",
       "      <td>0.0</td>\n",
       "      <td>0.0</td>\n",
       "    </tr>\n",
       "    <tr>\n",
       "      <th>3</th>\n",
       "      <td>0.0</td>\n",
       "      <td>0.0</td>\n",
       "      <td>3.0</td>\n",
       "      <td>5.0</td>\n",
       "      <td>4.0</td>\n",
       "      <td>0.0</td>\n",
       "      <td>0.0</td>\n",
       "      <td>0.0</td>\n",
       "      <td>0.0</td>\n",
       "      <td>0.0</td>\n",
       "      <td>...</td>\n",
       "      <td>0.0</td>\n",
       "      <td>0.0</td>\n",
       "      <td>0.0</td>\n",
       "      <td>0.0</td>\n",
       "      <td>0.0</td>\n",
       "      <td>0.0</td>\n",
       "      <td>0.0</td>\n",
       "      <td>0.0</td>\n",
       "      <td>0.0</td>\n",
       "      <td>0.0</td>\n",
       "    </tr>\n",
       "    <tr>\n",
       "      <th>4</th>\n",
       "      <td>0.0</td>\n",
       "      <td>5.0</td>\n",
       "      <td>0.0</td>\n",
       "      <td>5.0</td>\n",
       "      <td>0.0</td>\n",
       "      <td>0.0</td>\n",
       "      <td>0.0</td>\n",
       "      <td>0.0</td>\n",
       "      <td>0.0</td>\n",
       "      <td>0.0</td>\n",
       "      <td>...</td>\n",
       "      <td>0.0</td>\n",
       "      <td>0.0</td>\n",
       "      <td>0.0</td>\n",
       "      <td>0.0</td>\n",
       "      <td>0.0</td>\n",
       "      <td>0.0</td>\n",
       "      <td>0.0</td>\n",
       "      <td>0.0</td>\n",
       "      <td>0.0</td>\n",
       "      <td>0.0</td>\n",
       "    </tr>\n",
       "    <tr>\n",
       "      <th>5</th>\n",
       "      <td>0.0</td>\n",
       "      <td>0.0</td>\n",
       "      <td>4.0</td>\n",
       "      <td>4.0</td>\n",
       "      <td>0.0</td>\n",
       "      <td>0.0</td>\n",
       "      <td>0.0</td>\n",
       "      <td>0.0</td>\n",
       "      <td>0.0</td>\n",
       "      <td>0.0</td>\n",
       "      <td>...</td>\n",
       "      <td>0.0</td>\n",
       "      <td>0.0</td>\n",
       "      <td>0.0</td>\n",
       "      <td>0.0</td>\n",
       "      <td>0.0</td>\n",
       "      <td>0.0</td>\n",
       "      <td>0.0</td>\n",
       "      <td>0.0</td>\n",
       "      <td>0.0</td>\n",
       "      <td>0.0</td>\n",
       "    </tr>\n",
       "  </tbody>\n",
       "</table>\n",
       "<p>5 rows × 3394 columns</p>\n",
       "</div>"
      ],
      "text/plain": [
       "tmdbId  5       11      12      13      14      16      18      19      \\\n",
       "userId                                                                   \n",
       "1          0.0     0.0     0.0     0.0     0.0     0.0     0.0     0.0   \n",
       "2          0.0     0.0     0.0     3.0     0.0     0.0     0.0     0.0   \n",
       "3          0.0     0.0     3.0     5.0     4.0     0.0     0.0     0.0   \n",
       "4          0.0     5.0     0.0     5.0     0.0     0.0     0.0     0.0   \n",
       "5          0.0     0.0     4.0     4.0     0.0     0.0     0.0     0.0   \n",
       "\n",
       "tmdbId  20      22      ...  325173  328111  328425  329833  332411  332567  \\\n",
       "userId                  ...                                                   \n",
       "1          0.0     0.0  ...     0.0     0.0     0.0     0.0     0.0     0.0   \n",
       "2          0.0     0.0  ...     0.0     0.0     0.0     0.0     0.0     0.0   \n",
       "3          0.0     0.0  ...     0.0     0.0     0.0     0.0     0.0     0.0   \n",
       "4          0.0     0.0  ...     0.0     0.0     0.0     0.0     0.0     0.0   \n",
       "5          0.0     0.0  ...     0.0     0.0     0.0     0.0     0.0     0.0   \n",
       "\n",
       "tmdbId  333371  334074  342521  347969  \n",
       "userId                                  \n",
       "1          0.0     0.0     0.0     0.0  \n",
       "2          0.0     0.0     0.0     0.0  \n",
       "3          0.0     0.0     0.0     0.0  \n",
       "4          0.0     0.0     0.0     0.0  \n",
       "5          0.0     0.0     0.0     0.0  \n",
       "\n",
       "[5 rows x 3394 columns]"
      ]
     },
     "execution_count": 13,
     "metadata": {},
     "output_type": "execute_result"
    }
   ],
   "source": [
    "user_movie_rating = join_movie.pivot_table('rating', index = 'userId', columns='tmdbId').fillna(0)\n",
    "print(user_movie_rating.shape)\n",
    "user_movie_rating.head()"
   ]
  },
  {
   "cell_type": "markdown",
   "metadata": {
    "id": "diEfDmXh1YcC"
   },
   "source": [
    "### 원본 행렬에서 값이 0이 아닌 부분 인덱스 찾기"
   ]
  },
  {
   "cell_type": "code",
   "execution_count": 14,
   "metadata": {
    "id": "vXFFcY-1eGe_"
   },
   "outputs": [],
   "source": [
    "data = user_movie_rating.values\n",
    "\n",
    "nonZeroX=[]\n",
    "nonZeroY=[]\n",
    "\n",
    "for i in range (0, data.shape[0]):\n",
    "  for j in range(0, data.shape[1]):\n",
    "    # print(mat[i][j])\n",
    "    if (data[i][j] != 0):\n",
    "      nonZeroX.append(i)\n",
    "      nonZeroY.append(j)"
   ]
  },
  {
   "cell_type": "markdown",
   "metadata": {
    "id": "wYZZef6O6k4_"
   },
   "source": [
    "### 원본 행렬에서 값이 0이 아닌 부분 값들 찾기\n",
    "* 이후에 오차 계산할 때 사용"
   ]
  },
  {
   "cell_type": "code",
   "execution_count": 15,
   "metadata": {
    "id": "w5d1ymYTvuQI"
   },
   "outputs": [],
   "source": [
    "nonZeroData = []\n",
    "for i,j in zip (nonZeroX, nonZeroY):\n",
    "  nonZeroData.append(data[i][j])"
   ]
  },
  {
   "cell_type": "code",
   "execution_count": 16,
   "metadata": {
    "colab": {
     "base_uri": "https://localhost:8080/"
    },
    "id": "OSzGMehSpAI_",
    "outputId": "8bef098b-136b-47ea-8c3e-e916ab766d9f"
   },
   "outputs": [
    {
     "name": "stdout",
     "output_type": "stream",
     "text": [
      "66947\n"
     ]
    }
   ],
   "source": [
    "# 개수 확인\n",
    "print(len(nonZeroData))"
   ]
  },
  {
   "cell_type": "markdown",
   "metadata": {
    "id": "I1Wvtf9qvtZY"
   },
   "source": [
    "## 학습"
   ]
  },
  {
   "cell_type": "markdown",
   "metadata": {
    "id": "GzUvAyEf7aUa"
   },
   "source": [
    "* SGD (Stochastic Gradient Descent)\n",
    " - http://ntucsu.csie.ntu.edu.tw/~cjlin/papers/libmf/libmf.pdf\n",
    " - https://velog.io/@vvakki_/Matrix-Factorization-2\n",
    " - https://soobarkbar.tistory.com/105\n",
    " - 구현이 쉽고, 비교적 빠른 실행 시간\n",
    "\n",
    "* RMSE (Root Mean Square Error)\n",
    "  - 오차: 실제 값과 예측 값의 차이\n",
    "  - 오차들의 제곱을 모두 더한 뒤 평균내고 루트 씌움"
   ]
  },
  {
   "cell_type": "code",
   "execution_count": 17,
   "metadata": {
    "colab": {
     "base_uri": "https://localhost:8080/"
    },
    "id": "zcrwUOnpkDFz",
    "outputId": "93f89427-93de-49d5-91f9-2d37e1f05906"
   },
   "outputs": [
    {
     "name": "stdout",
     "output_type": "stream",
     "text": [
      "epoch: 10, rmse: 0.741029\n",
      "epoch: 20, rmse: 0.440402\n",
      "epoch: 30, rmse: 0.302979\n",
      "epoch: 40, rmse: 0.256121\n",
      "epoch: 50, rmse: 0.238608\n",
      "epoch: 60, rmse: 0.230862\n",
      "epoch: 70, rmse: 0.226846\n",
      "epoch: 80, rmse: 0.224479\n",
      "epoch: 90, rmse: 0.222942\n",
      "epoch: 100, rmse: 0.221869\n"
     ]
    }
   ],
   "source": [
    "from sklearn.metrics import mean_squared_error\n",
    "\n",
    "# 분해할 행렬의 shape\n",
    "num_users, num_items = user_movie_rating.shape\n",
    "K = 150\n",
    "\n",
    "# 랜덤 값으로 채움\n",
    "np.random.seed(1)\n",
    "P = np.random.normal(scale=1.0/K, size=(num_users, K))\n",
    "Q = np.random.normal(scale=1.0/K, size=(num_items, K))\n",
    "\n",
    "# 과적합 되지 않게 보정\n",
    "r_lambda = 0.03\n",
    "\n",
    "# 학습률\n",
    "lr = 0.02\n",
    "\n",
    "# 반복 횟수\n",
    "step = 100\n",
    "\n",
    "\n",
    "\n",
    "for epoch in range(1, step+1):\n",
    "  for i,j in zip (nonZeroX, nonZeroY):\n",
    "    # 결과 행렬의 i, j 항은 P행렬의 i행과 Q행렬의 j행렬의 행렬곱 값이다.\n",
    "    # 에러 구함\n",
    "    error = data[i][j] - np.dot(P[i, :], Q[j, :].T)\n",
    "    \n",
    "    # 구한 에러를 바탕으로 SGD를 이용해 P, Q 행렬 보정\n",
    "    P[i, :] = P[i, :] + lr*(error * Q[j, :] - r_lambda*P[i, :])\n",
    "    Q[j, :] = Q[j, :] + lr*(error * P[i, :] - r_lambda*Q[j, :])\n",
    "\n",
    "\n",
    "  # 보정한 행렬을 바탕으로 예측\n",
    "  prediction = np.dot(P, Q.T)\n",
    "  errorList = []\n",
    "  # 원본 행렬에서 0이 아닌 값이 있는 위치에 있는 값들을 가져옴\n",
    "  for i,j in zip (nonZeroX, nonZeroY):\n",
    "    errorList.append(prediction[i][j])\n",
    "\n",
    "  if (epoch) % 10 == 0:\n",
    "      # 오차 계산\n",
    "      rmse = mean_squared_error(nonZeroData, errorList, squared=False)\n",
    "      print(\"epoch: {}, rmse: {:.6f}\" .format(epoch, rmse))\n"
   ]
  },
  {
   "cell_type": "markdown",
   "metadata": {
    "id": "ma9MS9sP6wOs"
   },
   "source": [
    "## 예측한 행렬 확인"
   ]
  },
  {
   "cell_type": "code",
   "execution_count": 18,
   "metadata": {
    "colab": {
     "base_uri": "https://localhost:8080/",
     "height": 293
    },
    "id": "q5H3Cm0rkwAR",
    "outputId": "127f5997-3b68-4e01-c2e7-971eb9fc831a"
   },
   "outputs": [
    {
     "name": "stdout",
     "output_type": "stream",
     "text": [
      "(671, 3394)\n"
     ]
    },
    {
     "data": {
      "text/html": [
       "<div>\n",
       "<style scoped>\n",
       "    .dataframe tbody tr th:only-of-type {\n",
       "        vertical-align: middle;\n",
       "    }\n",
       "\n",
       "    .dataframe tbody tr th {\n",
       "        vertical-align: top;\n",
       "    }\n",
       "\n",
       "    .dataframe thead th {\n",
       "        text-align: right;\n",
       "    }\n",
       "</style>\n",
       "<table border=\"1\" class=\"dataframe\">\n",
       "  <thead>\n",
       "    <tr style=\"text-align: right;\">\n",
       "      <th>tmdbId</th>\n",
       "      <th>5</th>\n",
       "      <th>11</th>\n",
       "      <th>12</th>\n",
       "      <th>13</th>\n",
       "      <th>14</th>\n",
       "      <th>16</th>\n",
       "      <th>18</th>\n",
       "      <th>19</th>\n",
       "      <th>20</th>\n",
       "      <th>22</th>\n",
       "      <th>...</th>\n",
       "      <th>325173</th>\n",
       "      <th>328111</th>\n",
       "      <th>328425</th>\n",
       "      <th>329833</th>\n",
       "      <th>332411</th>\n",
       "      <th>332567</th>\n",
       "      <th>333371</th>\n",
       "      <th>334074</th>\n",
       "      <th>342521</th>\n",
       "      <th>347969</th>\n",
       "    </tr>\n",
       "    <tr>\n",
       "      <th>userId</th>\n",
       "      <th></th>\n",
       "      <th></th>\n",
       "      <th></th>\n",
       "      <th></th>\n",
       "      <th></th>\n",
       "      <th></th>\n",
       "      <th></th>\n",
       "      <th></th>\n",
       "      <th></th>\n",
       "      <th></th>\n",
       "      <th></th>\n",
       "      <th></th>\n",
       "      <th></th>\n",
       "      <th></th>\n",
       "      <th></th>\n",
       "      <th></th>\n",
       "      <th></th>\n",
       "      <th></th>\n",
       "      <th></th>\n",
       "      <th></th>\n",
       "      <th></th>\n",
       "    </tr>\n",
       "  </thead>\n",
       "  <tbody>\n",
       "    <tr>\n",
       "      <th>1</th>\n",
       "      <td>2.018751</td>\n",
       "      <td>2.027506</td>\n",
       "      <td>2.435144</td>\n",
       "      <td>2.871769</td>\n",
       "      <td>2.817492</td>\n",
       "      <td>1.930649</td>\n",
       "      <td>2.823132</td>\n",
       "      <td>2.634303</td>\n",
       "      <td>2.821766</td>\n",
       "      <td>2.666339</td>\n",
       "      <td>...</td>\n",
       "      <td>1.678784</td>\n",
       "      <td>2.044131</td>\n",
       "      <td>1.886671</td>\n",
       "      <td>1.571274</td>\n",
       "      <td>0.835638</td>\n",
       "      <td>1.617979</td>\n",
       "      <td>2.811076</td>\n",
       "      <td>1.742602</td>\n",
       "      <td>0.442040</td>\n",
       "      <td>1.273466</td>\n",
       "    </tr>\n",
       "    <tr>\n",
       "      <th>2</th>\n",
       "      <td>2.427161</td>\n",
       "      <td>3.817115</td>\n",
       "      <td>3.434385</td>\n",
       "      <td>3.138006</td>\n",
       "      <td>4.241183</td>\n",
       "      <td>3.600734</td>\n",
       "      <td>3.015552</td>\n",
       "      <td>3.931935</td>\n",
       "      <td>3.837951</td>\n",
       "      <td>3.102039</td>\n",
       "      <td>...</td>\n",
       "      <td>2.171388</td>\n",
       "      <td>3.197801</td>\n",
       "      <td>2.751044</td>\n",
       "      <td>2.007929</td>\n",
       "      <td>1.082741</td>\n",
       "      <td>1.914578</td>\n",
       "      <td>3.754777</td>\n",
       "      <td>2.405215</td>\n",
       "      <td>0.531100</td>\n",
       "      <td>1.936493</td>\n",
       "    </tr>\n",
       "    <tr>\n",
       "      <th>3</th>\n",
       "      <td>4.023255</td>\n",
       "      <td>3.817229</td>\n",
       "      <td>3.136991</td>\n",
       "      <td>4.789111</td>\n",
       "      <td>3.940762</td>\n",
       "      <td>3.634627</td>\n",
       "      <td>3.656024</td>\n",
       "      <td>2.934828</td>\n",
       "      <td>3.645171</td>\n",
       "      <td>3.174454</td>\n",
       "      <td>...</td>\n",
       "      <td>2.281968</td>\n",
       "      <td>3.247178</td>\n",
       "      <td>2.450493</td>\n",
       "      <td>2.149517</td>\n",
       "      <td>1.139410</td>\n",
       "      <td>1.768384</td>\n",
       "      <td>4.150747</td>\n",
       "      <td>2.459349</td>\n",
       "      <td>0.476006</td>\n",
       "      <td>1.980283</td>\n",
       "    </tr>\n",
       "    <tr>\n",
       "      <th>4</th>\n",
       "      <td>3.864301</td>\n",
       "      <td>5.227648</td>\n",
       "      <td>4.769728</td>\n",
       "      <td>4.837270</td>\n",
       "      <td>4.691342</td>\n",
       "      <td>4.664920</td>\n",
       "      <td>4.738351</td>\n",
       "      <td>4.802329</td>\n",
       "      <td>4.629582</td>\n",
       "      <td>4.703060</td>\n",
       "      <td>...</td>\n",
       "      <td>3.080600</td>\n",
       "      <td>3.549180</td>\n",
       "      <td>3.211044</td>\n",
       "      <td>2.582616</td>\n",
       "      <td>1.532466</td>\n",
       "      <td>2.590606</td>\n",
       "      <td>4.941381</td>\n",
       "      <td>2.994904</td>\n",
       "      <td>0.737824</td>\n",
       "      <td>2.199557</td>\n",
       "    </tr>\n",
       "    <tr>\n",
       "      <th>5</th>\n",
       "      <td>3.409294</td>\n",
       "      <td>3.917637</td>\n",
       "      <td>4.113348</td>\n",
       "      <td>4.193443</td>\n",
       "      <td>3.681283</td>\n",
       "      <td>3.373367</td>\n",
       "      <td>3.571902</td>\n",
       "      <td>3.090779</td>\n",
       "      <td>3.836153</td>\n",
       "      <td>3.808318</td>\n",
       "      <td>...</td>\n",
       "      <td>2.407582</td>\n",
       "      <td>3.757537</td>\n",
       "      <td>2.770761</td>\n",
       "      <td>2.363732</td>\n",
       "      <td>1.200014</td>\n",
       "      <td>1.884030</td>\n",
       "      <td>4.277915</td>\n",
       "      <td>2.610122</td>\n",
       "      <td>0.493224</td>\n",
       "      <td>2.216691</td>\n",
       "    </tr>\n",
       "  </tbody>\n",
       "</table>\n",
       "<p>5 rows × 3394 columns</p>\n",
       "</div>"
      ],
      "text/plain": [
       "tmdbId    5         11        12        13        14        16        18      \\\n",
       "userId                                                                         \n",
       "1       2.018751  2.027506  2.435144  2.871769  2.817492  1.930649  2.823132   \n",
       "2       2.427161  3.817115  3.434385  3.138006  4.241183  3.600734  3.015552   \n",
       "3       4.023255  3.817229  3.136991  4.789111  3.940762  3.634627  3.656024   \n",
       "4       3.864301  5.227648  4.769728  4.837270  4.691342  4.664920  4.738351   \n",
       "5       3.409294  3.917637  4.113348  4.193443  3.681283  3.373367  3.571902   \n",
       "\n",
       "tmdbId    19        20        22      ...    325173    328111    328425  \\\n",
       "userId                                ...                                 \n",
       "1       2.634303  2.821766  2.666339  ...  1.678784  2.044131  1.886671   \n",
       "2       3.931935  3.837951  3.102039  ...  2.171388  3.197801  2.751044   \n",
       "3       2.934828  3.645171  3.174454  ...  2.281968  3.247178  2.450493   \n",
       "4       4.802329  4.629582  4.703060  ...  3.080600  3.549180  3.211044   \n",
       "5       3.090779  3.836153  3.808318  ...  2.407582  3.757537  2.770761   \n",
       "\n",
       "tmdbId    329833    332411    332567    333371    334074    342521    347969  \n",
       "userId                                                                        \n",
       "1       1.571274  0.835638  1.617979  2.811076  1.742602  0.442040  1.273466  \n",
       "2       2.007929  1.082741  1.914578  3.754777  2.405215  0.531100  1.936493  \n",
       "3       2.149517  1.139410  1.768384  4.150747  2.459349  0.476006  1.980283  \n",
       "4       2.582616  1.532466  2.590606  4.941381  2.994904  0.737824  2.199557  \n",
       "5       2.363732  1.200014  1.884030  4.277915  2.610122  0.493224  2.216691  \n",
       "\n",
       "[5 rows x 3394 columns]"
      ]
     },
     "execution_count": 18,
     "metadata": {},
     "output_type": "execute_result"
    }
   ],
   "source": [
    "# 예측한 행렬 보이기\n",
    "pred_matrix = np.dot(P, Q.T)\n",
    "pred_matrix_df = pd.DataFrame(pred_matrix, columns = user_movie_rating.columns, index = user_movie_rating.index)\n",
    "print(pred_matrix_df.shape)\n",
    "pred_matrix_df.head()"
   ]
  },
  {
   "cell_type": "markdown",
   "metadata": {
    "id": "WHkMewJb6zDN"
   },
   "source": [
    "#### 0.5점 단위로 끊어서 확인"
   ]
  },
  {
   "cell_type": "code",
   "execution_count": 19,
   "metadata": {
    "colab": {
     "base_uri": "https://localhost:8080/",
     "height": 293
    },
    "id": "a1WB6pRql0L4",
    "outputId": "15cd32a7-139d-4322-ee83-425da37c3d50"
   },
   "outputs": [
    {
     "name": "stdout",
     "output_type": "stream",
     "text": [
      "(671, 3394)\n"
     ]
    },
    {
     "data": {
      "text/html": [
       "<div>\n",
       "<style scoped>\n",
       "    .dataframe tbody tr th:only-of-type {\n",
       "        vertical-align: middle;\n",
       "    }\n",
       "\n",
       "    .dataframe tbody tr th {\n",
       "        vertical-align: top;\n",
       "    }\n",
       "\n",
       "    .dataframe thead th {\n",
       "        text-align: right;\n",
       "    }\n",
       "</style>\n",
       "<table border=\"1\" class=\"dataframe\">\n",
       "  <thead>\n",
       "    <tr style=\"text-align: right;\">\n",
       "      <th>tmdbId</th>\n",
       "      <th>5</th>\n",
       "      <th>11</th>\n",
       "      <th>12</th>\n",
       "      <th>13</th>\n",
       "      <th>14</th>\n",
       "      <th>16</th>\n",
       "      <th>18</th>\n",
       "      <th>19</th>\n",
       "      <th>20</th>\n",
       "      <th>22</th>\n",
       "      <th>...</th>\n",
       "      <th>325173</th>\n",
       "      <th>328111</th>\n",
       "      <th>328425</th>\n",
       "      <th>329833</th>\n",
       "      <th>332411</th>\n",
       "      <th>332567</th>\n",
       "      <th>333371</th>\n",
       "      <th>334074</th>\n",
       "      <th>342521</th>\n",
       "      <th>347969</th>\n",
       "    </tr>\n",
       "    <tr>\n",
       "      <th>userId</th>\n",
       "      <th></th>\n",
       "      <th></th>\n",
       "      <th></th>\n",
       "      <th></th>\n",
       "      <th></th>\n",
       "      <th></th>\n",
       "      <th></th>\n",
       "      <th></th>\n",
       "      <th></th>\n",
       "      <th></th>\n",
       "      <th></th>\n",
       "      <th></th>\n",
       "      <th></th>\n",
       "      <th></th>\n",
       "      <th></th>\n",
       "      <th></th>\n",
       "      <th></th>\n",
       "      <th></th>\n",
       "      <th></th>\n",
       "      <th></th>\n",
       "      <th></th>\n",
       "    </tr>\n",
       "  </thead>\n",
       "  <tbody>\n",
       "    <tr>\n",
       "      <th>1</th>\n",
       "      <td>2.0</td>\n",
       "      <td>2.0</td>\n",
       "      <td>2.5</td>\n",
       "      <td>3.0</td>\n",
       "      <td>3.0</td>\n",
       "      <td>2.0</td>\n",
       "      <td>3.0</td>\n",
       "      <td>2.5</td>\n",
       "      <td>3.0</td>\n",
       "      <td>2.5</td>\n",
       "      <td>...</td>\n",
       "      <td>1.5</td>\n",
       "      <td>2.0</td>\n",
       "      <td>2.0</td>\n",
       "      <td>1.5</td>\n",
       "      <td>1.0</td>\n",
       "      <td>1.5</td>\n",
       "      <td>3.0</td>\n",
       "      <td>1.5</td>\n",
       "      <td>0.5</td>\n",
       "      <td>1.5</td>\n",
       "    </tr>\n",
       "    <tr>\n",
       "      <th>2</th>\n",
       "      <td>2.5</td>\n",
       "      <td>4.0</td>\n",
       "      <td>3.5</td>\n",
       "      <td>3.0</td>\n",
       "      <td>4.0</td>\n",
       "      <td>3.5</td>\n",
       "      <td>3.0</td>\n",
       "      <td>4.0</td>\n",
       "      <td>4.0</td>\n",
       "      <td>3.0</td>\n",
       "      <td>...</td>\n",
       "      <td>2.0</td>\n",
       "      <td>3.0</td>\n",
       "      <td>3.0</td>\n",
       "      <td>2.0</td>\n",
       "      <td>1.0</td>\n",
       "      <td>2.0</td>\n",
       "      <td>4.0</td>\n",
       "      <td>2.5</td>\n",
       "      <td>0.5</td>\n",
       "      <td>2.0</td>\n",
       "    </tr>\n",
       "    <tr>\n",
       "      <th>3</th>\n",
       "      <td>4.0</td>\n",
       "      <td>4.0</td>\n",
       "      <td>3.0</td>\n",
       "      <td>5.0</td>\n",
       "      <td>4.0</td>\n",
       "      <td>3.5</td>\n",
       "      <td>3.5</td>\n",
       "      <td>3.0</td>\n",
       "      <td>3.5</td>\n",
       "      <td>3.0</td>\n",
       "      <td>...</td>\n",
       "      <td>2.5</td>\n",
       "      <td>3.0</td>\n",
       "      <td>2.5</td>\n",
       "      <td>2.0</td>\n",
       "      <td>1.0</td>\n",
       "      <td>2.0</td>\n",
       "      <td>4.0</td>\n",
       "      <td>2.5</td>\n",
       "      <td>0.5</td>\n",
       "      <td>2.0</td>\n",
       "    </tr>\n",
       "    <tr>\n",
       "      <th>4</th>\n",
       "      <td>4.0</td>\n",
       "      <td>5.0</td>\n",
       "      <td>5.0</td>\n",
       "      <td>5.0</td>\n",
       "      <td>4.5</td>\n",
       "      <td>4.5</td>\n",
       "      <td>4.5</td>\n",
       "      <td>5.0</td>\n",
       "      <td>4.5</td>\n",
       "      <td>4.5</td>\n",
       "      <td>...</td>\n",
       "      <td>3.0</td>\n",
       "      <td>3.5</td>\n",
       "      <td>3.0</td>\n",
       "      <td>2.5</td>\n",
       "      <td>1.5</td>\n",
       "      <td>2.5</td>\n",
       "      <td>5.0</td>\n",
       "      <td>3.0</td>\n",
       "      <td>0.5</td>\n",
       "      <td>2.0</td>\n",
       "    </tr>\n",
       "    <tr>\n",
       "      <th>5</th>\n",
       "      <td>3.5</td>\n",
       "      <td>4.0</td>\n",
       "      <td>4.0</td>\n",
       "      <td>4.0</td>\n",
       "      <td>3.5</td>\n",
       "      <td>3.5</td>\n",
       "      <td>3.5</td>\n",
       "      <td>3.0</td>\n",
       "      <td>4.0</td>\n",
       "      <td>4.0</td>\n",
       "      <td>...</td>\n",
       "      <td>2.5</td>\n",
       "      <td>4.0</td>\n",
       "      <td>3.0</td>\n",
       "      <td>2.5</td>\n",
       "      <td>1.0</td>\n",
       "      <td>2.0</td>\n",
       "      <td>4.5</td>\n",
       "      <td>2.5</td>\n",
       "      <td>0.5</td>\n",
       "      <td>2.0</td>\n",
       "    </tr>\n",
       "  </tbody>\n",
       "</table>\n",
       "<p>5 rows × 3394 columns</p>\n",
       "</div>"
      ],
      "text/plain": [
       "tmdbId  5       11      12      13      14      16      18      19      \\\n",
       "userId                                                                   \n",
       "1          2.0     2.0     2.5     3.0     3.0     2.0     3.0     2.5   \n",
       "2          2.5     4.0     3.5     3.0     4.0     3.5     3.0     4.0   \n",
       "3          4.0     4.0     3.0     5.0     4.0     3.5     3.5     3.0   \n",
       "4          4.0     5.0     5.0     5.0     4.5     4.5     4.5     5.0   \n",
       "5          3.5     4.0     4.0     4.0     3.5     3.5     3.5     3.0   \n",
       "\n",
       "tmdbId  20      22      ...  325173  328111  328425  329833  332411  332567  \\\n",
       "userId                  ...                                                   \n",
       "1          3.0     2.5  ...     1.5     2.0     2.0     1.5     1.0     1.5   \n",
       "2          4.0     3.0  ...     2.0     3.0     3.0     2.0     1.0     2.0   \n",
       "3          3.5     3.0  ...     2.5     3.0     2.5     2.0     1.0     2.0   \n",
       "4          4.5     4.5  ...     3.0     3.5     3.0     2.5     1.5     2.5   \n",
       "5          4.0     4.0  ...     2.5     4.0     3.0     2.5     1.0     2.0   \n",
       "\n",
       "tmdbId  333371  334074  342521  347969  \n",
       "userId                                  \n",
       "1          3.0     1.5     0.5     1.5  \n",
       "2          4.0     2.5     0.5     2.0  \n",
       "3          4.0     2.5     0.5     2.0  \n",
       "4          5.0     3.0     0.5     2.0  \n",
       "5          4.5     2.5     0.5     2.0  \n",
       "\n",
       "[5 rows x 3394 columns]"
      ]
     },
     "execution_count": 19,
     "metadata": {},
     "output_type": "execute_result"
    }
   ],
   "source": [
    "# 예측 행렬을 원본 점수처럼 0.5점 단위로 끊어서 표시하기\n",
    "\n",
    "thres = [0.0, 0.5, 1.0, 1.5, 2.0, 2.5, 3.0, 3.5, 4.0, 4.5, 5.0]\n",
    "\n",
    "\n",
    "for i in range(0, pred_matrix.shape[0]):\n",
    "  for j in range(0, pred_matrix.shape[1]):\n",
    "    for k in thres:\n",
    "      if pred_matrix[i][j] < 0:\n",
    "        pred_matrix[i][j] = 0.0\n",
    "        break\n",
    "      elif pred_matrix[i][j] > 5.0:\n",
    "        pred_matrix[i][j] = 5.0\n",
    "        break      \n",
    "      elif (pred_matrix[i][j]>= k-0.25) and (pred_matrix[i][j]< k+0.25):\n",
    "        pred_matrix[i][j] = k\n",
    "        break\n",
    "\n",
    "\n",
    "pred_matrix_df_05 = pd.DataFrame(pred_matrix, columns = user_movie_rating.columns, index = user_movie_rating.index)\n",
    "print(pred_matrix_df_05.shape)\n",
    "pred_matrix_df_05.head()       \n"
   ]
  },
  {
   "cell_type": "markdown",
   "metadata": {},
   "source": [
    "# Content-based filtering"
   ]
  },
  {
   "cell_type": "markdown",
   "metadata": {},
   "source": [
    "## 1. CSV 파일 불러와 DataFrame으로 저장"
   ]
  },
  {
   "cell_type": "code",
   "execution_count": 20,
   "metadata": {},
   "outputs": [
    {
     "data": {
      "text/html": [
       "<div>\n",
       "<style scoped>\n",
       "    .dataframe tbody tr th:only-of-type {\n",
       "        vertical-align: middle;\n",
       "    }\n",
       "\n",
       "    .dataframe tbody tr th {\n",
       "        vertical-align: top;\n",
       "    }\n",
       "\n",
       "    .dataframe thead th {\n",
       "        text-align: right;\n",
       "    }\n",
       "</style>\n",
       "<table border=\"1\" class=\"dataframe\">\n",
       "  <thead>\n",
       "    <tr style=\"text-align: right;\">\n",
       "      <th></th>\n",
       "      <th>tmdbId</th>\n",
       "      <th>original_title</th>\n",
       "      <th>overview</th>\n",
       "    </tr>\n",
       "  </thead>\n",
       "  <tbody>\n",
       "    <tr>\n",
       "      <th>0</th>\n",
       "      <td>19995</td>\n",
       "      <td>Avatar</td>\n",
       "      <td>In the 22nd century, a paraplegic Marine is di...</td>\n",
       "    </tr>\n",
       "    <tr>\n",
       "      <th>1</th>\n",
       "      <td>285</td>\n",
       "      <td>Pirates of the Caribbean: At World's End</td>\n",
       "      <td>Captain Barbossa, long believed to be dead, ha...</td>\n",
       "    </tr>\n",
       "    <tr>\n",
       "      <th>2</th>\n",
       "      <td>206647</td>\n",
       "      <td>Spectre</td>\n",
       "      <td>A cryptic message from Bond’s past sends him o...</td>\n",
       "    </tr>\n",
       "    <tr>\n",
       "      <th>3</th>\n",
       "      <td>49026</td>\n",
       "      <td>The Dark Knight Rises</td>\n",
       "      <td>Following the death of District Attorney Harve...</td>\n",
       "    </tr>\n",
       "    <tr>\n",
       "      <th>4</th>\n",
       "      <td>49529</td>\n",
       "      <td>John Carter</td>\n",
       "      <td>John Carter is a war-weary, former military ca...</td>\n",
       "    </tr>\n",
       "    <tr>\n",
       "      <th>...</th>\n",
       "      <td>...</td>\n",
       "      <td>...</td>\n",
       "      <td>...</td>\n",
       "    </tr>\n",
       "    <tr>\n",
       "      <th>4798</th>\n",
       "      <td>9367</td>\n",
       "      <td>El Mariachi</td>\n",
       "      <td>El Mariachi just wants to play his guitar and ...</td>\n",
       "    </tr>\n",
       "    <tr>\n",
       "      <th>4799</th>\n",
       "      <td>72766</td>\n",
       "      <td>Newlyweds</td>\n",
       "      <td>A newlywed couple's honeymoon is upended by th...</td>\n",
       "    </tr>\n",
       "    <tr>\n",
       "      <th>4800</th>\n",
       "      <td>231617</td>\n",
       "      <td>Signed, Sealed, Delivered</td>\n",
       "      <td>\"Signed, Sealed, Delivered\" introduces a dedic...</td>\n",
       "    </tr>\n",
       "    <tr>\n",
       "      <th>4801</th>\n",
       "      <td>126186</td>\n",
       "      <td>Shanghai Calling</td>\n",
       "      <td>When ambitious New York attorney Sam is sent t...</td>\n",
       "    </tr>\n",
       "    <tr>\n",
       "      <th>4802</th>\n",
       "      <td>25975</td>\n",
       "      <td>My Date with Drew</td>\n",
       "      <td>Ever since the second grade when he first saw ...</td>\n",
       "    </tr>\n",
       "  </tbody>\n",
       "</table>\n",
       "<p>4803 rows × 3 columns</p>\n",
       "</div>"
      ],
      "text/plain": [
       "      tmdbId                            original_title  \\\n",
       "0      19995                                    Avatar   \n",
       "1        285  Pirates of the Caribbean: At World's End   \n",
       "2     206647                                   Spectre   \n",
       "3      49026                     The Dark Knight Rises   \n",
       "4      49529                               John Carter   \n",
       "...      ...                                       ...   \n",
       "4798    9367                               El Mariachi   \n",
       "4799   72766                                 Newlyweds   \n",
       "4800  231617                 Signed, Sealed, Delivered   \n",
       "4801  126186                          Shanghai Calling   \n",
       "4802   25975                         My Date with Drew   \n",
       "\n",
       "                                               overview  \n",
       "0     In the 22nd century, a paraplegic Marine is di...  \n",
       "1     Captain Barbossa, long believed to be dead, ha...  \n",
       "2     A cryptic message from Bond’s past sends him o...  \n",
       "3     Following the death of District Attorney Harve...  \n",
       "4     John Carter is a war-weary, former military ca...  \n",
       "...                                                 ...  \n",
       "4798  El Mariachi just wants to play his guitar and ...  \n",
       "4799  A newlywed couple's honeymoon is upended by th...  \n",
       "4800  \"Signed, Sealed, Delivered\" introduces a dedic...  \n",
       "4801  When ambitious New York attorney Sam is sent t...  \n",
       "4802  Ever since the second grade when he first saw ...  \n",
       "\n",
       "[4803 rows x 3 columns]"
      ]
     },
     "execution_count": 20,
     "metadata": {},
     "output_type": "execute_result"
    }
   ],
   "source": [
    "import pandas as pd\n",
    "content_movies = pd.read_csv(\"./dataset/tmdb_5000_movies.csv\")         # tmdb_5000_movies.csv dataframe으로 읽어오기\n",
    "content_movies = content_movies[['id',\"original_title\", \"overview\"]]\n",
    "content_movies.columns=['tmdbId','original_title','overview']\n",
    "content_movies[\"overview\"] = content_movies[\"overview\"].astype(\"str\")\n",
    "content_movies"
   ]
  },
  {
   "cell_type": "markdown",
   "metadata": {},
   "source": [
    "\"overview\" column 모두 소문자로, 문자+숫자(\\w)만 남기고 나머지는 띄어쓰기로 대체\\\n",
    "https://wikidocs.net/21703 참고"
   ]
  },
  {
   "cell_type": "code",
   "execution_count": 21,
   "metadata": {},
   "outputs": [
    {
     "data": {
      "text/plain": [
       "0       in the 22nd century  a paraplegic marine is di...\n",
       "1       captain barbossa  long believed to be dead  ha...\n",
       "2       a cryptic message from bond s past sends him o...\n",
       "3       following the death of district attorney harve...\n",
       "4       john carter is a war weary  former military ca...\n",
       "                              ...                        \n",
       "4798    el mariachi just wants to play his guitar and ...\n",
       "4799    a newlywed couple s honeymoon is upended by th...\n",
       "4800     signed  sealed  delivered  introduces a dedic...\n",
       "4801    when ambitious new york attorney sam is sent t...\n",
       "4802    ever since the second grade when he first saw ...\n",
       "Name: overview, Length: 4803, dtype: object"
      ]
     },
     "execution_count": 21,
     "metadata": {},
     "output_type": "execute_result"
    }
   ],
   "source": [
    "import re\n",
    "content_movies['overview'].apply(lambda x:re.sub('\\W',' ',x.lower()))"
   ]
  },
  {
   "cell_type": "markdown",
   "metadata": {},
   "source": [
    "TF-IDF 사용   \n",
    "=>텍스트를 수치화한다 by 특징 추출   \n",
    "가장 기본은 countVectorizer. 하지만 조사, 관사 등 **의미 없는 단어에 높은 수치를 부여** 할 위험이 있음   \n",
    "https://chan-lab.tistory.com/24?category=810217 참고"
   ]
  },
  {
   "cell_type": "code",
   "execution_count": 22,
   "metadata": {},
   "outputs": [],
   "source": [
    "from sklearn.feature_extraction.text import TfidfVectorizer\n",
    "# 단어 묶음을 1-2개로 설정\n",
    "# ex) go home, very nice 등과 같은 단어도 인덱스로 받는다\n",
    "tfidf_vec = TfidfVectorizer(ngram_range=(1, 2))\n",
    "tfidf_matrix = tfidf_vec.fit_transform(content_movies['overview'])# 단어 학습"
   ]
  },
  {
   "cell_type": "markdown",
   "metadata": {},
   "source": [
    "## cosine similarity"
   ]
  },
  {
   "cell_type": "code",
   "execution_count": 23,
   "metadata": {},
   "outputs": [
    {
     "name": "stdout",
     "output_type": "stream",
     "text": [
      "tfidf_matrix shape:  (4803, 154844)\n",
      "### COSINE Similarity ###\n",
      "[[1.         0.01514413 0.00614504 ... 0.01195829 0.00572386 0.006304  ]\n",
      " [0.01514413 1.         0.01308527 ... 0.0176922  0.00997908 0.00666831]\n",
      " [0.00614504 0.01308527 1.         ... 0.01289    0.00565554 0.00612954]\n",
      " ...\n",
      " [0.01195829 0.0176922  0.01289    ... 1.         0.01532978 0.00900306]\n",
      " [0.00572386 0.00997908 0.00565554 ... 0.01532978 1.         0.01649947]\n",
      " [0.006304   0.00666831 0.00612954 ... 0.00900306 0.01649947 1.        ]]\n",
      "### 유사도 기준 index 정렬 ###\n",
      "[[   0 3604  634 ... 4140 2596 2669]\n",
      " [   1 2379 2542 ...  161 2656 4458]\n",
      " [   2 1343 3162 ... 4144 4148 4180]\n",
      " ...\n",
      " [4800 4034  569 ... 2853 4140 1038]\n",
      " [4801 2017 1480 ... 4140 4458 2108]\n",
      " [4802 2586  868 ... 3988 4513 3152]]\n"
     ]
    }
   ],
   "source": [
    "from sklearn.metrics.pairwise import cosine_similarity\n",
    "import numpy as np\n",
    "print(\"tfidf_matrix shape: \",tfidf_matrix.shape) # (데이터 개수, unique한 단어 개수)\n",
    "plot_similarity = cosine_similarity(tfidf_matrix,tfidf_matrix) # 줄거리 간 cosine 유사도 구하기 - tfidf_matrix 사용\n",
    "print(\"### COSINE Similarity ###\")\n",
    "print(plot_similarity)\n",
    "similar_index = np.argsort(-plot_similarity)  # 유사도 높은 순서대로 index 정렬\n",
    "print(\"### 유사도 기준 index 정렬 ###\") \n",
    "print(similar_index)"
   ]
  },
  {
   "cell_type": "code",
   "execution_count": 26,
   "metadata": {},
   "outputs": [],
   "source": [
    "def recommend_movies(user_id,user_movie):\n",
    "    \n",
    "    ### contents-based filtering\n",
    "    \n",
    "    # input_movie에 해당하는 index 값 가져오기\n",
    "    movie_index = content_movies[content_movies['original_title']==user_movie].index.values    \n",
    "    similar_movies = similar_index[movie_index, :]  # 유사도 상위 10개 index 가져오기\n",
    "    # 인덱스로 사용하기 위해서는 1차원으로 변형\n",
    "    similar_movies_index = similar_movies.reshape(-1,)             # similar_movies 1차원 변형\n",
    "    contents_based_movies=content_movies.iloc[similar_movies_index]\n",
    "    \n",
    "    \n",
    "    ### collaborative filtering\n",
    "    \n",
    "    user_id=user_id-1\n",
    "    # collaborative filtering 수행 결과를 평점 높은 순으로 정렬\n",
    "    collaborative_filtering_movies=pred_matrix_df_05.iloc[user_id].sort_values(ascending=False)\n",
    "\n",
    "    # 사용자 데이터 추출\n",
    "    user_data=join_movie[join_movie.userId==user_id]\n",
    "    # 사용자가 이미 본 영화는 삭제\n",
    "    recommendations=movies[-movies['tmdbId'].isin(user_data['movieId'])]\n",
    "    recommendations.columns=['tmdbId','original_title']\n",
    "    # 데이터 합치기\n",
    "    recommendations=recommendations.merge(pd.DataFrame(collaborative_filtering_movies).reset_index(),on='tmdbId')\n",
    "    \n",
    "    recommendations.columns=['tmdbId','original_title','Predictions']\n",
    "    recommendations.drop(['original_title'],axis='columns',inplace=True)\n",
    "    \n",
    "    # contents-based + collaborative filtering 결과 합치기\n",
    "    final_recommendations = pd.merge(recommendations, contents_based_movies, left_on='tmdbId', right_on='tmdbId', how='inner')\n",
    "    \n",
    "    final_recommendations[\"Predictions\"] = final_recommendations[\"Predictions\"].astype(\"int\")\n",
    "    final_recommendations=final_recommendations.sort_values(by=['Predictions'],axis=0,ascending=False)\n",
    "    final_recommendations=final_recommendations.head(10)\n",
    "\n",
    "    return final_recommendations"
   ]
  },
  {
   "cell_type": "code",
   "execution_count": 27,
   "metadata": {},
   "outputs": [
    {
     "data": {
      "text/html": [
       "<div>\n",
       "<style scoped>\n",
       "    .dataframe tbody tr th:only-of-type {\n",
       "        vertical-align: middle;\n",
       "    }\n",
       "\n",
       "    .dataframe tbody tr th {\n",
       "        vertical-align: top;\n",
       "    }\n",
       "\n",
       "    .dataframe thead th {\n",
       "        text-align: right;\n",
       "    }\n",
       "</style>\n",
       "<table border=\"1\" class=\"dataframe\">\n",
       "  <thead>\n",
       "    <tr style=\"text-align: right;\">\n",
       "      <th></th>\n",
       "      <th>tmdbId</th>\n",
       "      <th>Predictions</th>\n",
       "      <th>original_title</th>\n",
       "      <th>overview</th>\n",
       "    </tr>\n",
       "  </thead>\n",
       "  <tbody>\n",
       "    <tr>\n",
       "      <th>2910</th>\n",
       "      <td>11386</td>\n",
       "      <td>5</td>\n",
       "      <td>The Crying Game</td>\n",
       "      <td>Irish Republican Army member Fergus (Stephen R...</td>\n",
       "    </tr>\n",
       "    <tr>\n",
       "      <th>1679</th>\n",
       "      <td>4518</td>\n",
       "      <td>5</td>\n",
       "      <td>Elizabeth</td>\n",
       "      <td>The story of the ascension to the throne and t...</td>\n",
       "    </tr>\n",
       "    <tr>\n",
       "      <th>3277</th>\n",
       "      <td>14275</td>\n",
       "      <td>5</td>\n",
       "      <td>Hoop Dreams</td>\n",
       "      <td>This documentary follows two inner-city Chicag...</td>\n",
       "    </tr>\n",
       "    <tr>\n",
       "      <th>1629</th>\n",
       "      <td>424</td>\n",
       "      <td>5</td>\n",
       "      <td>Schindler's List</td>\n",
       "      <td>The true story of how businessman Oskar Schind...</td>\n",
       "    </tr>\n",
       "    <tr>\n",
       "      <th>2611</th>\n",
       "      <td>15121</td>\n",
       "      <td>5</td>\n",
       "      <td>The Sound of Music</td>\n",
       "      <td>Film adaptation of a classic Rodgers and Hamme...</td>\n",
       "    </tr>\n",
       "    <tr>\n",
       "      <th>2562</th>\n",
       "      <td>31174</td>\n",
       "      <td>5</td>\n",
       "      <td>Richard III</td>\n",
       "      <td>Shakespeare's Play transplanted into a 1930s s...</td>\n",
       "    </tr>\n",
       "    <tr>\n",
       "      <th>673</th>\n",
       "      <td>11128</td>\n",
       "      <td>4</td>\n",
       "      <td>Ladder 49</td>\n",
       "      <td>Under the watchful eye of his mentor, Captain ...</td>\n",
       "    </tr>\n",
       "    <tr>\n",
       "      <th>1364</th>\n",
       "      <td>11978</td>\n",
       "      <td>4</td>\n",
       "      <td>Men of Honor</td>\n",
       "      <td>Against formidable odds -- and an old-school d...</td>\n",
       "    </tr>\n",
       "    <tr>\n",
       "      <th>1320</th>\n",
       "      <td>18320</td>\n",
       "      <td>4</td>\n",
       "      <td>The Young Victoria</td>\n",
       "      <td>From Academy Award® winners Graham King and Ma...</td>\n",
       "    </tr>\n",
       "    <tr>\n",
       "      <th>2682</th>\n",
       "      <td>8390</td>\n",
       "      <td>4</td>\n",
       "      <td>Definitely, Maybe</td>\n",
       "      <td>When Will decides to tell his daughter the sto...</td>\n",
       "    </tr>\n",
       "  </tbody>\n",
       "</table>\n",
       "</div>"
      ],
      "text/plain": [
       "      tmdbId  Predictions      original_title  \\\n",
       "2910   11386            5     The Crying Game   \n",
       "1679    4518            5           Elizabeth   \n",
       "3277   14275            5         Hoop Dreams   \n",
       "1629     424            5    Schindler's List   \n",
       "2611   15121            5  The Sound of Music   \n",
       "2562   31174            5         Richard III   \n",
       "673    11128            4           Ladder 49   \n",
       "1364   11978            4        Men of Honor   \n",
       "1320   18320            4  The Young Victoria   \n",
       "2682    8390            4   Definitely, Maybe   \n",
       "\n",
       "                                               overview  \n",
       "2910  Irish Republican Army member Fergus (Stephen R...  \n",
       "1679  The story of the ascension to the throne and t...  \n",
       "3277  This documentary follows two inner-city Chicag...  \n",
       "1629  The true story of how businessman Oskar Schind...  \n",
       "2611  Film adaptation of a classic Rodgers and Hamme...  \n",
       "2562  Shakespeare's Play transplanted into a 1930s s...  \n",
       "673   Under the watchful eye of his mentor, Captain ...  \n",
       "1364  Against formidable odds -- and an old-school d...  \n",
       "1320  From Academy Award® winners Graham King and Ma...  \n",
       "2682  When Will decides to tell his daughter the sto...  "
      ]
     },
     "execution_count": 27,
     "metadata": {},
     "output_type": "execute_result"
    }
   ],
   "source": [
    "recommend_movies(330,'The Sound of Music')"
   ]
  },
  {
   "cell_type": "code",
   "execution_count": null,
   "metadata": {},
   "outputs": [],
   "source": []
  }
 ],
 "metadata": {
  "accelerator": "GPU",
  "colab": {
   "collapsed_sections": [],
   "name": "collaborative filtering_update.ipynb",
   "provenance": []
  },
  "kernelspec": {
   "display_name": "Python 3",
   "language": "python",
   "name": "python3"
  },
  "language_info": {
   "codemirror_mode": {
    "name": "ipython",
    "version": 3
   },
   "file_extension": ".py",
   "mimetype": "text/x-python",
   "name": "python",
   "nbconvert_exporter": "python",
   "pygments_lexer": "ipython3",
   "version": "3.8.5"
  }
 },
 "nbformat": 4,
 "nbformat_minor": 1
}
